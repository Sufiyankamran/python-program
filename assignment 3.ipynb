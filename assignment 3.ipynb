{
 "cells": [
  {
   "cell_type": "code",
   "execution_count": 1,
   "id": "4547866f",
   "metadata": {},
   "outputs": [
    {
     "name": "stdout",
     "output_type": "stream",
     "text": [
      "Select operation.\n",
      "1.Add\n",
      "2.Subtract\n",
      "3.Multiply\n",
      "4.Divide\n",
      "Enter choice(1/2/3/4): 4\n",
      "Enter first number: 32\n",
      "Enter second number: 4\n",
      "32.0 / 4.0 = 8.0\n",
      "Let's do next calculation? (y/n): n\n"
     ]
    }
   ],
   "source": [
    "\"\"\"\"Make a calculator using Python with addition , subtraction ,\n",
    "multiplication ,division and power.\"\"\"\n",
    "# This function adds two numbers\n",
    "def add(a, b):\n",
    "    return a + b\n",
    "\n",
    "# This function subtracts two numbers\n",
    "def subtract(a, b):\n",
    "    return a - b\n",
    "\n",
    "# This function multiplies two numbers\n",
    "def multiply(a, b):\n",
    "    return a * b\n",
    "\n",
    "# This function divides two numbers\n",
    "def divide(a, b):\n",
    "    return a / b\n",
    "\n",
    "print(\"Select operation.\")\n",
    "print(\"1.Add\")\n",
    "print(\"2.Subtract\")\n",
    "print(\"3.Multiply\")\n",
    "print(\"4.Divide\")\n",
    "\n",
    "while True:\n",
    "    \n",
    "    choice = input(\"Enter choice(1/2/3/4): \")\n",
    "\n",
    "    if choice in ('1', '2', '3', '4'):\n",
    "        num1 = float(input(\"Enter first number: \"))\n",
    "        num2 = float(input(\"Enter second number: \"))\n",
    "\n",
    "        if choice == '1':\n",
    "            print(num1, \"+\", num2, \"=\", add(num1, num2))\n",
    "\n",
    "        elif choice == '2':\n",
    "            print(num1, \"-\", num2, \"=\", subtract(num1, num2))\n",
    "\n",
    "        elif choice == '3':\n",
    "            print(num1, \"*\", num2, \"=\", multiply(num1, num2))\n",
    "\n",
    "        elif choice == '4':\n",
    "            print(num1, \"/\", num2, \"=\", divide(num1, num2))\n",
    "        \n",
    "        next_calculation = input(\"Let's do next calculation? (y/n): \")\n",
    "        if next_calculation == \"n\":\n",
    "          break\n",
    "    \n",
    "    else:\n",
    "        print(\"Invalid Input\")"
   ]
  },
  {
   "cell_type": "code",
   "execution_count": 1,
   "id": "074454a7",
   "metadata": {},
   "outputs": [
    {
     "name": "stdout",
     "output_type": "stream",
     "text": [
      "Checking if 4 exists in list ( using loop ) : \n",
      "Element Exists\n"
     ]
    }
   ],
   "source": [
    "\"\"\"\"Write a program to check if there is any numeric value in list using for\n",
    "loop\"\"\"\n",
    "list = [ 1, 6, 3, 5, 3, 4 ]\n",
    "print(\"Checking if 4 exists in list ( using loop ) : \")\n",
    " \n",
    "# Checking if 4 exists in list\n",
    "# using loop\n",
    "for i in list:\n",
    "    if(i == 4) :\n",
    "        print (\"Element Exists\")"
   ]
  },
  {
   "cell_type": "code",
   "execution_count": 2,
   "id": "b97aed76",
   "metadata": {},
   "outputs": [
    {
     "name": "stdout",
     "output_type": "stream",
     "text": [
      "{0: 10, 1: 20}\n",
      "{0: 10, 1: 20, 2: 30}\n"
     ]
    }
   ],
   "source": [
    "\"\"\"\"Write a Python script to add a key to a dictionary.\"\"\"\n",
    "key = {0:10, 1:20}\n",
    "print(key)\n",
    "key.update({2:30})\n",
    "print(key)"
   ]
  },
  {
   "cell_type": "code",
   "execution_count": 3,
   "id": "3bba5960",
   "metadata": {},
   "outputs": [
    {
     "name": "stdout",
     "output_type": "stream",
     "text": [
      "Total sum of values in the dictionary:\n",
      "183\n"
     ]
    }
   ],
   "source": [
    "\"\"\"\"Write a Python program to sum all the numeric items in a dictionary.\"\"\"\n",
    "key={'A':100,'B':54,'C':29}\n",
    "print(\"Total sum of values in the dictionary:\")\n",
    "print(sum(key.values()))"
   ]
  },
  {
   "cell_type": "code",
   "execution_count": 4,
   "id": "e18f566b",
   "metadata": {},
   "outputs": [
    {
     "name": "stdout",
     "output_type": "stream",
     "text": [
      "2 3 4 5 "
     ]
    }
   ],
   "source": [
    "\"\"\"\"Write a program to identify duplicate values from list.\"\"\"\n",
    "l=[1,2,3,4,5,2,3,4,7,9,5]\n",
    "l1=[]\n",
    "for i in l:\n",
    "    if i not in l1:\n",
    "        l1.append(i)\n",
    "    else:\n",
    "        print(i,end=' ')"
   ]
  },
  {
   "cell_type": "code",
   "execution_count": 5,
   "id": "98c83ff8",
   "metadata": {},
   "outputs": [
    {
     "name": "stdout",
     "output_type": "stream",
     "text": [
      "Key is present in the dictionary\n",
      "Key is not present in the dictionary\n"
     ]
    }
   ],
   "source": [
    "\"\"\"\"Write a Python script to check if a given key already exists in a\n",
    "    dictionary\"\"\"\n",
    "d = {1: 10, 2: 20, 3: 30, 4: 40, 5: 50, 6: 60}\n",
    "def key_present(x):\n",
    "  if x in d:\n",
    "      print('Key is present in the dictionary')\n",
    "  else:\n",
    "      print('Key is not present in the dictionary')\n",
    "key_present(1)\n",
    "key_present(56)"
   ]
  },
  {
   "cell_type": "code",
   "execution_count": null,
   "id": "5b1a9228",
   "metadata": {},
   "outputs": [],
   "source": []
  }
 ],
 "metadata": {
  "kernelspec": {
   "display_name": "Python 3",
   "language": "python",
   "name": "python3"
  },
  "language_info": {
   "codemirror_mode": {
    "name": "ipython",
    "version": 3
   },
   "file_extension": ".py",
   "mimetype": "text/x-python",
   "name": "python",
   "nbconvert_exporter": "python",
   "pygments_lexer": "ipython3",
   "version": "3.8.8"
  }
 },
 "nbformat": 4,
 "nbformat_minor": 5
}
