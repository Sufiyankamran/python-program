{
 "cells": [
  {
   "cell_type": "code",
   "execution_count": 3,
   "id": "2209a9a0",
   "metadata": {},
   "outputs": [
    {
     "name": "stdout",
     "output_type": "stream",
     "text": [
      "Twinkle, twinkle, little star,\n",
      "\t How I wonder what you are!\n",
      "\t\t Up above the world so high,\n",
      "\t\t Like a diamond in the sky.\n",
      "Twinkle, twinkle, little star\n",
      "\t How I wonder what you are!\n"
     ]
    }
   ],
   "source": [
    "#1. Write a Python program to print the following string in a specific format (see the output):\n",
    "print(\"Twinkle, twinkle, little star,\\n\\t How I wonder what you are!\\n\\t\\t Up above the world so high,\\n\\t\\t Like a diamond in the sky.\\nTwinkle, twinkle, little star\\n\\t How I wonder what you are!\");"
   ]
  },
  {
   "cell_type": "code",
   "execution_count": 1,
   "id": "88767de1",
   "metadata": {},
   "outputs": [
    {
     "name": "stdout",
     "output_type": "stream",
     "text": [
      "Python version is:\n",
      "3.8.8 (default, Apr 13 2021, 15:08:03) [MSC v.1916 64 bit (AMD64)]\n",
      "Version information is:\n",
      "sys.version_info(major=3, minor=8, micro=8, releaselevel='final', serial=0)\n"
     ]
    }
   ],
   "source": [
    "#2. Write a Python program to get the Python version you are using:\n",
    "import sys\n",
    "print(\"Python version is:\")\n",
    "print (sys.version);\n",
    "print(\"Version information is:\")\n",
    "print (sys.version_info);"
   ]
  },
  {
   "cell_type": "code",
   "execution_count": 2,
   "id": "f72f6871",
   "metadata": {},
   "outputs": [
    {
     "name": "stdout",
     "output_type": "stream",
     "text": [
      "Current date and time : \n",
      "2021-10-23 23:56:03\n"
     ]
    }
   ],
   "source": [
    "#3. Write a Python program to display the current date and time.\n",
    "import datetime\n",
    "current=datetime.datetime.now()\n",
    "print (\"Current date and time : \");\n",
    "print (current.strftime(\"%Y-%m-%d %H:%M:%S\"));"
   ]
  },
  {
   "cell_type": "code",
   "execution_count": 6,
   "id": "2ff00ec9",
   "metadata": {},
   "outputs": [
    {
     "name": "stdout",
     "output_type": "stream",
     "text": [
      "Enter radius of circle: \n",
      "6\n",
      "The Area of the Circle having radius 6 is: 113.112 square units.\n"
     ]
    }
   ],
   "source": [
    "#4. Write a Python program which accepts the radius of a circle from the user and compute the area.\n",
    "pi=3.142\n",
    "r=int(input(\"Enter radius of circle: \\n\"))\n",
    "Area=pi*(r*r)\n",
    "print(f\"The Area of the Circle having radius {r} is: {Area} square units.\");"
   ]
  },
  {
   "cell_type": "code",
   "execution_count": 9,
   "id": "3fbba331",
   "metadata": {},
   "outputs": [
    {
     "name": "stdout",
     "output_type": "stream",
     "text": [
      "Enter your first name:\n",
      "Muhammad\n",
      "Enter your last name:\n",
      "Sufiyan\n",
      "The reverse order of your name is : \n",
      " Sufiyan Muhammad\n"
     ]
    }
   ],
   "source": [
    "#5. Write a Python program which accepts the user's first and last name and print them in reverse order with a space between them.\n",
    "n1=str(input(\"Enter your first name:\\n\"))\n",
    "n2=str(input(\"Enter your last name:\\n\"))\n",
    "print(f\"The reverse order of your name is : \\n {n2} {n1}\");"
   ]
  },
  {
   "cell_type": "code",
   "execution_count": 10,
   "id": "ff9bcd65",
   "metadata": {},
   "outputs": [
    {
     "name": "stdout",
     "output_type": "stream",
     "text": [
      "Enter first value: \n",
      "6\n",
      "Enter second value: \n",
      "8\n",
      "The addition of two numbers are: 14\n"
     ]
    }
   ],
   "source": [
    "#6. Write a python program which takes two inputs from user and print them addition:\n",
    "v1=int(input(\"Enter first value: \\n\"))\n",
    "v2=int(input(\"Enter second value: \\n\"))\n",
    "add=v1+v2;\n",
    "print(f\"The addition of two numbers are: {add}\");"
   ]
  },
  {
   "cell_type": "code",
   "execution_count": 11,
   "id": "95392e4a",
   "metadata": {},
   "outputs": [
    {
     "name": "stdout",
     "output_type": "stream",
     "text": [
      "Enter your English Marks Out of 100: 80\n",
      "Enter your Mathematics Marks Marks Out of 100: 76\n",
      "Enter your Chemistry Marks Marks Out of 100: 89\n",
      "Enter your Physics Marks Marks Out of 100: 98\n",
      "Enter your Urdu Marks Marks Out of 100: 79\n",
      "You got A+ and your percentage is 84.39999999999999%\n"
     ]
    }
   ],
   "source": [
    "#7. Write a program which takes 5 inputs from user for different subject’s marks, total it and generate mark sheet using grades?\n",
    "a1=int(input(\"Enter your English Marks Out of 100: \"))\n",
    "a2=int(input(\"Enter your Mathematics Marks Marks Out of 100: \"))\n",
    "a3=int(input(\"Enter your Chemistry Marks Marks Out of 100: \"))\n",
    "a4=int(input(\"Enter your Physics Marks Marks Out of 100: \"))\n",
    "a5=int(input(\"Enter your Urdu Marks Marks Out of 100: \"))\n",
    "total=a1+a2+a3+a4+a5\n",
    "p=(total/500)*100\n",
    "#CONDITIONAL STATEMENTS FOR GRADES\n",
    "if p>100 or p<0:\n",
    "    print(\"Please write between +0<-->+100\")\n",
    "elif p<=100 and p>80:\n",
    "    print(f\"You got A+ and your percentage is {p}%\")\n",
    "elif p < 80 and p > 70:\n",
    "    print(f\"You got A and your percentage is {p}%\")\n",
    "elif p < 70 and p > 60:\n",
    "    print(f\"You got B and your percentage is {p}%\")\n",
    "elif p < 60 and p > 50:\n",
    "    print(f\"You got C\")\n",
    "elif p < 50 and p > 40:\n",
    "    print(f\"You got D and your percentage is {p}%\")\n",
    "else:\n",
    "    print(\"Sorry! You are Failed..\")\n"
   ]
  },
  {
   "cell_type": "code",
   "execution_count": 12,
   "id": "7c56b459",
   "metadata": {},
   "outputs": [
    {
     "name": "stdout",
     "output_type": "stream",
     "text": [
      "Enter a number: \n",
      "9\n",
      "The number is odd\n"
     ]
    }
   ],
   "source": [
    "#8. Write a program which take input from user and identify that the given number is even or odd?\n",
    "n1=int(input(\"Enter a number: \\n\"))\n",
    "n2 =n1 % 2;\n",
    "if(n2==0):\n",
    "    print(\"The number is even\")\n",
    "else:\n",
    "    print(\"The number is odd\")"
   ]
  },
  {
   "cell_type": "code",
   "execution_count": 13,
   "id": "0ea27392",
   "metadata": {},
   "outputs": [
    {
     "name": "stdout",
     "output_type": "stream",
     "text": [
      "Given list is:  [1, 2, 3, 4, 5, 6, 7, 8, 9, 10, 11, 21, 23, 44, 22]\n",
      "The length of list is:  15\n"
     ]
    }
   ],
   "source": [
    "#9. Write a program which print the length of the list?\n",
    "l1=[1,2,3,4,5,6,7,8,9,10,11,21,23,44,22]\n",
    "print(\"Given list is: \",l1);\n",
    "\n",
    "print(\"The length of list is: \",len(l1));"
   ]
  },
  {
   "cell_type": "code",
   "execution_count": 14,
   "id": "147bfb65",
   "metadata": {},
   "outputs": [
    {
     "name": "stdout",
     "output_type": "stream",
     "text": [
      "Given list is:  [1, 2, 3, 4, 5, 6, 7, 8, 9, 10, 43, 21, 11]\n",
      "The sum of list is:  130\n"
     ]
    }
   ],
   "source": [
    "#10.Write a Python program to sum all the numeric items in a list?\n",
    "l1=[1,2,3,4,5,6,7,8,9,10,43,21,11]\n",
    "print(\"Given list is: \",l1);\n",
    "print(\"The sum of list is: \",sum(l1));"
   ]
  },
  {
   "cell_type": "code",
   "execution_count": 15,
   "id": "c3ffe454",
   "metadata": {},
   "outputs": [
    {
     "name": "stdout",
     "output_type": "stream",
     "text": [
      "Given list is:  [1, 2, 3, 4, 5, 6, 7, 8, 9, 10, 13, 43, 54, 76]\n",
      "The max number of list is:  76\n"
     ]
    }
   ],
   "source": [
    "#11.Write a Python program to get the largest number from a numeric list.\n",
    "l1=[1,2,3,4,5,6,7,8,9,10,13,43,54,76]\n",
    "print(\"Given list is: \",l1);\n",
    "print(\"The max number of list is: \",max(l1));"
   ]
  },
  {
   "cell_type": "code",
   "execution_count": 16,
   "id": "be867f35",
   "metadata": {},
   "outputs": [
    {
     "name": "stdout",
     "output_type": "stream",
     "text": [
      "The numbers that are less than 5 are: \n",
      " 1 1 2 3\n"
     ]
    }
   ],
   "source": [
    "#Take a list, say for example this one: Write a program that prints out all the elements of the list that are less than 5.\n",
    "l1= [1, 1, 2, 3, 5, 8, 13, 21, 34, 55, 89,]\n",
    "print(\"The numbers that are less than 5 are: \\n\",l1[0],l1[1],l1[2],l1[3]);\n"
   ]
  },
  {
   "cell_type": "code",
   "execution_count": null,
   "id": "c9a1bbc6",
   "metadata": {},
   "outputs": [],
   "source": []
  }
 ],
 "metadata": {
  "kernelspec": {
   "display_name": "Python 3",
   "language": "python",
   "name": "python3"
  },
  "language_info": {
   "codemirror_mode": {
    "name": "ipython",
    "version": 3
   },
   "file_extension": ".py",
   "mimetype": "text/x-python",
   "name": "python",
   "nbconvert_exporter": "python",
   "pygments_lexer": "ipython3",
   "version": "3.8.8"
  }
 },
 "nbformat": 4,
 "nbformat_minor": 5
}
